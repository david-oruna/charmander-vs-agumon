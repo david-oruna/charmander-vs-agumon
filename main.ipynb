import tensorflow as tf
from tensorflow.keras import layers, models
from tensorflow.keras.preprocessing.image import ImageDataGenerator

# Set the seed for reproducibility
tf.random.set_seed(1234)

# Define the paths to your image folders
charmander_folder = "/path/to/charmander_images"
akumon_folder = "/path/to/akumon_images"

# Define image size and batch size
img_size = (224, 224)
batch_size = 32

# Create an ImageDataGenerator with data augmentation (optional)
datagen = ImageDataGenerator(
    rescale=1./255,
    shear_range=0.2,
    zoom_range=0.2,
    horizontal_flip=True,
    validation_split=0.2  # Adjust the split ratio based on your dataset
)

# Create data generators for training and validation
train_generator = datagen.flow_from_directory(
    "/path/to/dataset_folder",
    target_size=img_size,
    batch_size=batch_size,
    class_mode='categorical',
    subset='training'
)

validation_generator = datagen.flow_from_directory(
    "/path/to/dataset_folder",
    target_size=img_size,
    batch_size=batch_size,
    class_mode='categorical',
    subset='validation'
)

# Create a simple CNN model
model = models.Sequential([
    layers.Conv2D(32, (3, 3), activation='relu', input_shape=(img_size[0], img_size[1], 3)),
    layers.MaxPooling2D((2, 2)),
    layers.Conv2D(64, (3, 3), activation='relu'),
    layers.MaxPooling2D((2, 2)),
    layers.Conv2D(128, (3, 3), activation='relu'),
    layers.MaxPooling2D((2, 2)),
    layers.Flatten(),
    layers.Dense(128, activation='relu'),
    layers.Dense(2, activation='softmax')  # 2 output neurons for two classes (Charmander and Akumon)
])

# Compile the model
model.compile(optimizer='adam',
              loss='categorical_crossentropy',
              metrics=['accuracy'])

# Train the model
history = model.fit(
    train_generator,
    epochs=10,  # Adjust the number of epochs based on your dataset and training performance
    validation_data=validation_generator
)
