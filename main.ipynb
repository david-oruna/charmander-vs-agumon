{
 "cells": [
  {
   "cell_type": "code",
   "execution_count": 15,
   "id": "9816cc82-9e74-4143-aa0d-98b7ee5589fb",
   "metadata": {},
   "outputs": [],
   "source": [
    "import tensorflow as tf\n",
    "import os\n",
    "from tensorflow.keras import layers, models\n",
    "from tensorflow.keras.preprocessing.image import ImageDataGenerator\n",
    "\n",
    "# Set the seed for reproducibility\n",
    "tf.random.set_seed(1234)\n",
    "\n",
    "# Define the paths to your image folders\n",
    "charmander_folder = r'C:\\Users\\DHO_d\\Desktop\\JARVIS\\project\\data\\charmander'\n",
    "akumon_folder = r'C:\\Users\\DHO_d\\Desktop\\JARVIS\\project\\data\\agumon'\n",
    "\n",
    "\n",
    "# Define image size and batch size\n",
    "img_size = (224, 224)\n",
    "batch_size = 32\n"
   ]
  },
  {
   "cell_type": "code",
   "execution_count": 19,
   "id": "926035cd-c62b-4f41-bdc4-479592279dc9",
   "metadata": {},
   "outputs": [],
   "source": [
    "datagen = ImageDataGenerator(\n",
    "    rescale=1./255,\n",
    "    shear_range=0.2,\n",
    "    zoom_range=0.2,\n",
    "    horizontal_flip=True,\n",
    "    validation_split=0.2  # Adjust the split ratio based on your dataset\n",
    ")"
   ]
  },
  {
   "cell_type": "code",
   "execution_count": 20,
   "id": "86efbebd-1608-4b05-9d37-5064a24c2166",
   "metadata": {},
   "outputs": [
    {
     "name": "stdout",
     "output_type": "stream",
     "text": [
      "Found 216 images belonging to 2 classes.\n"
     ]
    }
   ],
   "source": [
    "train_generator = datagen.flow_from_directory(\n",
    "    r\"C:\\Users\\DHO_d\\Desktop\\JARVIS\\project\\data\",\n",
    "    target_size=img_size,\n",
    "    batch_size=batch_size,\n",
    "    class_mode='categorical',\n",
    "    subset='training'\n",
    ")"
   ]
  },
  {
   "cell_type": "code",
   "execution_count": 21,
   "id": "81f6ecc2-43b3-4dfa-a5ad-065141dbc087",
   "metadata": {},
   "outputs": [
    {
     "name": "stdout",
     "output_type": "stream",
     "text": [
      "Found 53 images belonging to 2 classes.\n",
      "Epoch 1/10\n",
      "2/7 [=======>......................] - ETA: 4s - loss: 5.7843 - accuracy: 0.5536"
     ]
    },
    {
     "name": "stderr",
     "output_type": "stream",
     "text": [
      "C:\\Users\\DHO_d\\AppData\\Local\\Programs\\Python\\Python310\\lib\\site-packages\\PIL\\Image.py:959: UserWarning: Palette images with Transparency expressed in bytes should be converted to RGBA images\n",
      "  warnings.warn(\n"
     ]
    },
    {
     "name": "stdout",
     "output_type": "stream",
     "text": [
      "7/7 [==============================] - 9s 1s/step - loss: 2.9295 - accuracy: 0.5185 - val_loss: 0.6636 - val_accuracy: 0.6038\n",
      "Epoch 2/10\n",
      "7/7 [==============================] - 7s 992ms/step - loss: 0.7074 - accuracy: 0.5694 - val_loss: 0.7523 - val_accuracy: 0.5094\n",
      "Epoch 3/10\n",
      "7/7 [==============================] - 7s 984ms/step - loss: 0.6602 - accuracy: 0.5833 - val_loss: 0.6352 - val_accuracy: 0.6604\n",
      "Epoch 4/10\n",
      "7/7 [==============================] - 7s 985ms/step - loss: 0.5900 - accuracy: 0.6991 - val_loss: 0.6246 - val_accuracy: 0.6792\n",
      "Epoch 5/10\n",
      "7/7 [==============================] - 7s 995ms/step - loss: 0.4914 - accuracy: 0.7824 - val_loss: 0.5190 - val_accuracy: 0.7170\n",
      "Epoch 6/10\n",
      "7/7 [==============================] - 7s 1s/step - loss: 0.5270 - accuracy: 0.6898 - val_loss: 0.5300 - val_accuracy: 0.8113\n",
      "Epoch 7/10\n",
      "7/7 [==============================] - 7s 1s/step - loss: 0.4624 - accuracy: 0.7685 - val_loss: 0.4975 - val_accuracy: 0.7547\n",
      "Epoch 8/10\n",
      "7/7 [==============================] - 7s 1s/step - loss: 0.4137 - accuracy: 0.8333 - val_loss: 0.4358 - val_accuracy: 0.7925\n",
      "Epoch 9/10\n",
      "7/7 [==============================] - 7s 1s/step - loss: 0.2925 - accuracy: 0.8750 - val_loss: 0.2450 - val_accuracy: 0.9623\n",
      "Epoch 10/10\n",
      "7/7 [==============================] - 8s 1s/step - loss: 0.2146 - accuracy: 0.9028 - val_loss: 0.1758 - val_accuracy: 0.9245\n"
     ]
    }
   ],
   "source": [
    "validation_generator = datagen.flow_from_directory(\n",
    "    r\"C:\\Users\\DHO_d\\Desktop\\JARVIS\\project\\data\",\n",
    "    target_size=img_size,\n",
    "    batch_size=batch_size,\n",
    "    class_mode='categorical',\n",
    "    subset='validation'\n",
    ")\n",
    "\n",
    "# Create a simple CNN model\n",
    "model = models.Sequential([\n",
    "    layers.Conv2D(32, (3, 3), activation='relu', input_shape=(img_size[0], img_size[1], 3)),\n",
    "    layers.MaxPooling2D((2, 2)),\n",
    "    layers.Conv2D(64, (3, 3), activation='relu'),\n",
    "    layers.MaxPooling2D((2, 2)),\n",
    "    layers.Conv2D(128, (3, 3), activation='relu'),\n",
    "    layers.MaxPooling2D((2, 2)),\n",
    "    layers.Flatten(),\n",
    "    layers.Dense(128, activation='relu'),\n",
    "    layers.Dense(2, activation='softmax')  # 2 output neurons for two classes (Charmander and Akumon)\n",
    "])\n",
    "\n",
    "# Compile the model\n",
    "model.compile(optimizer='adam',\n",
    "              loss='categorical_crossentropy',\n",
    "              metrics=['accuracy'])\n",
    "\n",
    "# Train the model\n",
    "history = model.fit(\n",
    "    train_generator,\n",
    "    epochs=10,  # Adjust the number of epochs based on your dataset and training performance\n",
    "    validation_data=validation_generator\n",
    ")"
   ]
  },
  {
   "cell_type": "code",
   "execution_count": 25,
   "id": "3b91518d-492b-4923-ae7e-b753a76a9900",
   "metadata": {},
   "outputs": [
    {
     "name": "stdout",
     "output_type": "stream",
     "text": [
      "1/1 [==============================] - 0s 30ms/step\n",
      "Prediction: Charmander\n"
     ]
    }
   ],
   "source": [
    "import numpy as np\n",
    "from tensorflow.keras.preprocessing import image\n",
    "\n",
    "# Path to an individual image you want to test\n",
    "image_path = \"C:/Users/DHO_d/Desktop/JARVIS/project/5c97c1ba87b24c0257899480.png\"\n",
    "\n",
    "img = image.load_img(image_path, target_size=img_size)\n",
    "img_array = image.img_to_array(img)\n",
    "img_array = np.expand_dims(img_array, axis=0)\n",
    "img_array /= 255.0  # Normalize the pixel values\n",
    "\n",
    "# Make a prediction\n",
    "predictions = model.predict(img_array)\n",
    "\n",
    "# Get the predicted class (0 for Charmander, 1 for Agumon)\n",
    "predicted_class = np.argmax(predictions)\n",
    "\n",
    "# Print the result\n",
    "if predicted_class == 0:\n",
    "    print(\"Prediction: Agumon\")\n",
    "else:\n",
    "    print(\"Prediction: Charmander\")\n"
   ]
  }
 ],
 "metadata": {
  "kernelspec": {
   "display_name": "Python 3 (ipykernel)",
   "language": "python",
   "name": "python3"
  },
  "language_info": {
   "codemirror_mode": {
    "name": "ipython",
    "version": 3
   },
   "file_extension": ".py",
   "mimetype": "text/x-python",
   "name": "python",
   "nbconvert_exporter": "python",
   "pygments_lexer": "ipython3",
   "version": "3.10.4"
  }
 },
 "nbformat": 4,
 "nbformat_minor": 5
}
